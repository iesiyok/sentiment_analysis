{
 "cells": [
  {
   "cell_type": "markdown",
   "metadata": {},
   "source": [
    "#Sentiment analysis for tweets"
   ]
  },
  {
   "cell_type": "markdown",
   "metadata": {},
   "source": [
    "@Ilkan Esiyok - 13 Apr 2016"
   ]
  },
  {
   "cell_type": "markdown",
   "metadata": {},
   "source": [
    "<b>TIMING STARTS</b>"
   ]
  },
  {
   "cell_type": "code",
   "execution_count": 1,
   "metadata": {
    "collapsed": true
   },
   "outputs": [],
   "source": [
    "import time\n",
    "start_time = time.time() "
   ]
  },
  {
   "cell_type": "code",
   "execution_count": null,
   "metadata": {
    "collapsed": true
   },
   "outputs": [],
   "source": [
    "TRAIN_DATA_FILE_PATH = 'C:\\\\Users\\\\iesiyok\\\\Desktop\\\\LMS\\\\Web.Search\\\\Assg1\\\\Assignment1_data\\\\train.json'\n",
    "DEV_DATA_FILE_PATH = 'C:\\\\Users\\\\iesiyok\\\\Desktop\\\\LMS\\\\Web.Search\\\\Assg1\\\\Assignment1_data\\\\dev.json'\n",
    "TEST_DATA_FILE_PATH = 'C:\\\\Users\\\\iesiyok\\\\Desktop\\\\LMS\\\\Web.Search\\\\Assg1\\\\Assignment1_data\\\\test.json'"
   ]
  },
  {
   "cell_type": "code",
   "execution_count": 2,
   "metadata": {
    "collapsed": false
   },
   "outputs": [],
   "source": [
    "from __future__ import division\n",
    "%matplotlib inline\n",
    "import re\n",
    "from nltk.stem.wordnet import WordNetLemmatizer\n",
    "from nltk.corpus import words\n",
    "import json\n",
    "import nltk\n",
    "import numpy as np\n",
    "import itertools\n",
    "from nltk.tokenize.regexp import WordPunctTokenizer\n",
    "from nltk.corpus import stopwords\n",
    "from sklearn.feature_extraction import DictVectorizer\n",
    "from sklearn.metrics import accuracy_score, classification_report\n",
    "from sklearn.grid_search import GridSearchCV\n",
    "from sklearn.tree import DecisionTreeClassifier\n",
    "from sklearn.linear_model import LogisticRegression\n",
    "from sklearn.cross_validation import train_test_split\n",
    "from scipy import sparse\n",
    "from random import randrange\n",
    "from nltk.corpus import brown\n",
    "import math\n",
    "import operator\n",
    "import gensim \n",
    "from nltk.data import find\n",
    "import operator\n",
    "from sklearn.metrics.pairwise import cosine_similarity\n",
    "from nltk.corpus import sentiwordnet as swn\n",
    "from nltk.corpus import wordnet as wn\n",
    "from nltk.corpus import opinion_lexicon\n",
    "from collections import Counter"
   ]
  },
  {
   "cell_type": "markdown",
   "metadata": {},
   "source": [
    "<b>HELPER METHODS</b>\n",
    "\n",
    "Includes the methods which are required for preprocessing. The explanations are given for each method on top of their definition."
   ]
  },
  {
   "cell_type": "code",
   "execution_count": 3,
   "metadata": {
    "collapsed": false
   },
   "outputs": [],
   "source": [
    "class Helper:\n",
    "    \n",
    "    corpus = None\n",
    "    \n",
    "    def __init__(self, corpus):\n",
    "        self.corpus = corpus\n",
    "    \n",
    "    #lemmatization only used in max_match method\n",
    "    def lemmatize(self, word):\n",
    "        lemmatizer = WordNetLemmatizer()\n",
    "        lemma = lemmatizer.lemmatize(word,'v')\n",
    "        if lemma == word:\n",
    "            lemma = lemmatizer.lemmatize(word,'n')\n",
    "        return lemma\n",
    "\n",
    "\n",
    "    #max_match method is used in order to process hashtags\n",
    "    def max_match_applier(self, hashtag):\n",
    "        hashtag = hashtag.group().lstrip('#')\n",
    "        return self.max_match(hashtag)\n",
    "\n",
    "    #max_match method, basically works as :\n",
    "    #moving through words from last character to first character and stopping when a word matches-> a word in the corpus\n",
    "    def max_match(self, hashtag):\n",
    "        #you should convert it to a python set before you use it TODO\n",
    "\n",
    "        sentence = re.split(r'(\\d+)', hashtag)#split with the numbers, (if there is)\n",
    "        word_list = ''\n",
    "        for word in sentence:\n",
    "            if word.isdigit():\n",
    "                word_list += word + ' '\n",
    "            else:\n",
    "                length = len(word)\n",
    "                i = 0\n",
    "                while i < length :\n",
    "                    for j in range(length, i, -1):\n",
    "                        ht = word[i : j]\n",
    "                        if(self.lemmatize(ht.lower()) in corpus):#lower operation here doesn't change the original letter\n",
    "                            word_list += ht + ' '\n",
    "                            i = j-1\n",
    "                            break\n",
    "                    i+=1\n",
    "\n",
    "        return word_list.rstrip()\n",
    "\n",
    "    #removes hashtags in the text\n",
    "    def remove_hashtags(self, sentence):\n",
    "        regexp = r'(^|\\W)#(\\w+)'\n",
    "        return re.sub(regexp, self.max_match_applier, sentence)    \n",
    "\n",
    "    #tokenizes the words in sentences\n",
    "    def word_tokenizer(self, sentence, wordpunct_tokenizer):\n",
    "        return wordpunct_tokenizer.tokenize(sentence)\n",
    "\n",
    "    #splits text into sentences\n",
    "    def sent_segmenter(self, tweet, sent_segmenter):   \n",
    "        return sent_segmenter.tokenize(tweet)\n",
    "\n",
    "    #removes user names from the text\n",
    "    def remove_usernames(self, tweet):\n",
    "        regexp = r'(^|\\W)@(\\w+)'\n",
    "        return re.sub(regexp, '', tweet, flags=re.IGNORECASE)   \n",
    "\n",
    "    #improvement method - removes user names from the text\n",
    "    def remove_usernames_imp(self, tweet):\n",
    "        regexp = r'(^|\\W)@(\\w+)'\n",
    "        return re.sub(regexp, ' ', tweet, flags=re.IGNORECASE)\n",
    "\n",
    "    #removes urls from text\n",
    "    def remove_urls(self, tweet):\n",
    "        regexp = r'(^|\\W)(http|https)://.+?($|\\s)'\n",
    "        return re.sub(regexp, '', tweet, flags=re.IGNORECASE)\n",
    "\n",
    "    #improvement method - removes urls from text\n",
    "    def remove_urls_imp(self, tweet):\n",
    "        regexp = r'(^|\\W)(http|https)://.+?($|\\s)'\n",
    "        return re.sub(regexp, ' ', tweet, flags=re.IGNORECASE)\n",
    "\n",
    "    #improvement method - this method only removes . and , characters from the text\n",
    "    def remove_punct_imp(self, tweet):\n",
    "        regexp = r'[\\.,]'\n",
    "        return re.sub(regexp, ' ', tweet, flags=re.IGNORECASE)\n",
    "\n",
    "    #lower case\n",
    "    def lower_case(self, tweet):\n",
    "        return tweet.lower()\n",
    "\n",
    "    #remove stop words in text\n",
    "    def remove_stop_words(self, tweet, stop_words_set, f_dict):\n",
    "        for word in tweet:    \n",
    "            if word not in stop_words_set:\n",
    "                f_dict.append(word)\n",
    "        return f_dict  \n",
    "\n",
    "    #improvement method - removes numbers in text, except ones which are joined with letters like '25th'\n",
    "    def remove_numbers_imp(self, tweet):\n",
    "        regexp = r'(^|\\b).[0-9]+(\\b|$)'\n",
    "        return re.sub(regexp, ' ', tweet, flags=re.IGNORECASE)\n",
    "\n",
    "    #improvement method - removes multiple spaces in text\n",
    "    def remove_spaces_imp(self, tweet):\n",
    "        regexp = r'  +'\n",
    "        return re.sub(regexp, ' ', tweet, flags=re.IGNORECASE)\n",
    "\n",
    "    #improvement method - removes single punctiations in the text, except ! and ? which might be informative in sentiment analysis context\n",
    "    def remove_spec_puncts_imp(self, tweet):\n",
    "        #! and ? might be informative, so we won't remove them\n",
    "        regexp = r'(^|\\s)\\(|\\)|\\[|\\]|\\{|\\}|\\*|&|@|-|\\\\|\\/|=|\\+|:|;|<|>|_|\\^|%|\\$|#|(\\s|$)'\n",
    "        return re.sub(regexp, ' ', tweet, flags=re.IGNORECASE)\n",
    "\n",
    "    #improvement method - removes words which are like letters in the text : example 'm', 'a'\n",
    "    def remove_single_words_imp(self, tweet):\n",
    "        regexp = r'(^|\\b)[a-zA-Z0-9](\\b|$)'\n",
    "        return re.sub(regexp, ' ', tweet, flags=re.IGNORECASE)\n",
    "\n",
    "    #returns the frequency of words in text\n",
    "    def get_BOW(self, text):\n",
    "        BOW = {}\n",
    "        for word in text:\n",
    "            BOW[word] = BOW.get(word,0) + 1\n",
    "        return BOW\n",
    "\n",
    "    #removes words that appear less than n times in whole text\n",
    "    def remove_less_than_n_times(self, BOW_list, n):\n",
    "        temp_dict = sum((Counter(x) for x in BOW_list ), Counter())      \n",
    "        return BOW_list\n",
    "    "
   ]
  },
  {
   "cell_type": "code",
   "execution_count": 4,
   "metadata": {
    "collapsed": false
   },
   "outputs": [],
   "source": [
    "#the corpus helps us to identify if the word is in the corpus\n",
    "corpus = set(words.words())\n",
    "helper = Helper(corpus)#cretes an instance from Helper class"
   ]
  },
  {
   "cell_type": "markdown",
   "metadata": {},
   "source": [
    "<b>PREPROCESSING</b>\n",
    "\n",
    "Includes preprocessing methods and works with helper methods above."
   ]
  },
  {
   "cell_type": "code",
   "execution_count": 6,
   "metadata": {
    "collapsed": false
   },
   "outputs": [],
   "source": [
    "#tokenizes the words in sentence\n",
    "wordpunct_tokenizer = WordPunctTokenizer()\n",
    "#splits text into sentences\n",
    "sent_segmenter = nltk.data.load('tokenizers/punkt/english.pickle')\n",
    "#stop_words corpus\n",
    "stop_words_set = set(stopwords.words())\n",
    "#vectorizer, helps to create sparse matrixes\n",
    "vectorizer = DictVectorizer() \n",
    "\n",
    "class Pre_Processor:\n",
    "\n",
    "    helper = None\n",
    "    \n",
    "    def __init__(self, helper):\n",
    "        self.helper = helper\n",
    "    \n",
    "    #original preprocess method\n",
    "    def preprocess(self, tweet):\n",
    "        tweet = helper.remove_urls(tweet)\n",
    "        tweet = helper.remove_usernames(tweet)\n",
    "        tweet = helper.remove_hashtags(tweet)\n",
    "        tweet = helper.lower_case(tweet)\n",
    "        sentences = helper.sent_segmenter(tweet, sent_segmenter)\n",
    "        words_list = []\n",
    "        for sentence in sentences:#we may have multiple sentences\n",
    "            words_list.append(helper.word_tokenizer(sentence, wordpunct_tokenizer))\n",
    "\n",
    "        return words_list\n",
    "\n",
    "    #improved preprocess method\n",
    "    def preprocess_improvement(self, tweet):\n",
    "        tweet = helper.remove_urls_imp(tweet)\n",
    "        tweet = helper.remove_usernames_imp(tweet)\n",
    "        tweet = helper.remove_hashtags(tweet)\n",
    "        tweet = helper.lower_case(tweet)\n",
    "\n",
    "        sentences = helper.sent_segmenter(tweet, sent_segmenter)\n",
    "\n",
    "        words_list = []\n",
    "        for sentence in sentences:#we may have multiple sentences\n",
    "            sentence = helper.remove_punct_imp(sentence)\n",
    "            #sentence = helper.max_match(sentence)\n",
    "            sentence = helper.remove_numbers_imp(sentence)\n",
    "            sentence = helper.remove_single_words_imp(sentence)\n",
    "            sentence = helper.remove_spec_puncts_imp(sentence)\n",
    "            sentence = helper.remove_spaces_imp(sentence)\n",
    "            words_list.append(helper.word_tokenizer(sentence, wordpunct_tokenizer))\n",
    "\n",
    "        return words_list\n",
    "\n",
    "    #original preprocess_file, gets the file and returns tweets, classes and dictionary\n",
    "    def preprocess_file(self, filename):\n",
    "\n",
    "        tweets =[] \n",
    "        labels = []\n",
    "        word_dict = {}\n",
    "        f = open(filename)\n",
    "        for line in f:\n",
    "            tweet_dict = json.loads(line)\n",
    "            words_list = self.preprocess(tweet_dict['text'])\n",
    "            tweets.append(words_list)\n",
    "            labels.append(int(tweet_dict[\"label\"]))\n",
    "            for words in words_list:\n",
    "                for word in words:\n",
    "                    word_dict[word] = word_dict.get(word,0) + 1\n",
    "\n",
    "        return tweets, labels, word_dict\n",
    "\n",
    "    #improved preprocess_file, gets the file and returns tweets, classes and dictionary  \n",
    "    #calls preprocess_improvement method,\n",
    "    def preprocess_file_improvement(self, filename):\n",
    "\n",
    "        tweets =[] \n",
    "        labels = []\n",
    "        word_dict = {}\n",
    "        f = open(filename)\n",
    "        for line in f:\n",
    "            tweet_dict = json.loads(line)\n",
    "            words_list = self.preprocess_improvement(tweet_dict['text'])\n",
    "            tweets.append(words_list)\n",
    "            labels.append(int(tweet_dict[\"label\"]))\n",
    "            for words in words_list:\n",
    "                for word in words:\n",
    "                    word_dict[word] = word_dict.get(word,0) + 1\n",
    "\n",
    "        return tweets, labels, word_dict\n",
    "\n",
    "    #creates feature dictionaries from tweets\n",
    "    #if remove_stop_words is True : it removes stop words from text\n",
    "    #if n is the number of minimum frquency of a word in whole file, if n =0 this control isn't applied \n",
    "    def convert_to_feature_dicts(self, tweets, remove_stop_words, n, wordDict):\n",
    "        feature_dicts = []\n",
    "\n",
    "        for tweet in tweets:\n",
    "            long_sentence = list(itertools.chain(*tweet))\n",
    "            if remove_stop_words:\n",
    "                for word in long_sentence:\n",
    "                    if word in stop_words_set:\n",
    "                        long_sentence.remove(word)\n",
    "                    else:\n",
    "                        if n > 0 and int(wordDict[word]) < n :\n",
    "                            long_sentence.remove(word)\n",
    "            else:\n",
    "                if n > 0 and wordDict[word] < n:\n",
    "                            long_sentence.remove(word)\n",
    "\n",
    "            BOW = helper.get_BOW(long_sentence)\n",
    "            feature_dicts.append(BOW)\n",
    "\n",
    "        return feature_dicts\n",
    "\n",
    "    #classifiers uses this method to get predictions, accuracy_score and report\n",
    "    def classifying(self, classifier, data, labels ):\n",
    "\n",
    "        predictions = classifier.predict(data)\n",
    "        print accuracy_score(labels, predictions)  \n",
    "        print classification_report(labels, predictions) \n",
    "        \n",
    "\n",
    "        \n",
    "    #applies grid search to a classsifier and finds out best parameters\n",
    "    def tuning(self, classifier, parameters, dev_data, dev_labels):\n",
    "        import matplotlib.pyplot as plt\n",
    "        fig = plt.figure()\n",
    "        \n",
    "        \n",
    "        gs = GridSearchCV(classifier, parameters, n_jobs=1)\n",
    "        gs.fit(dev_data, dev_labels)\n",
    "        #print gs.grid_scores_ \n",
    "        print 'Best score: ' + str(gs.best_score_)#finds the best score according to the params\n",
    "        best_parameters = gs.best_estimator_.get_params()\n",
    "        print 'Parameters : '\n",
    "        for p_name in sorted(parameters.keys()):\n",
    "            print(\"  %s: %r\" % (p_name, best_parameters[p_name]))\n",
    "        \n",
    "        y = []\n",
    "        x = []\n",
    "        #gs.grid_scores_ contains every possiblity\n",
    "        for param_s, mean_score, _ in gs.grid_scores_: \n",
    "#             print \"%0.4f for %r\" % (mean_score, param_s)\n",
    "            y.append(mean_score)\n",
    "            x.append(param_s)\n",
    "#reference for bar chart : \n",
    "#http://stackoverflow.com/questions/11617719/how-to-plot-a-very-simple-bar-chart-python-matplotlib-using-input-txt-file\n",
    "        N = len(y)\n",
    "        width = 0.45\n",
    "        indice = np.arange(len(y))\n",
    "        plt.bar(indice, y, width=width)\n",
    "        plt.xticks(indice + width / 2, x)\n",
    "\n",
    "        fig.autofmt_xdate()#for showing x axis better\n",
    "        plt.show()\n",
    "        \n",
    "        #predictions = gs.predict(test_data)\n",
    "        #print classification_report(test_labels, predictions)    \n",
    "\n"
   ]
  },
  {
   "cell_type": "code",
   "execution_count": 7,
   "metadata": {
    "collapsed": true
   },
   "outputs": [],
   "source": [
    "pre_processing = Pre_Processor(helper)#creates an instance from Pre_Processor class"
   ]
  },
  {
   "cell_type": "markdown",
   "metadata": {},
   "source": [
    "<b>PRE - PROCESSING STARTS</b>\n",
    "\n",
    "We will call preprocessing block and send the data file paths."
   ]
  },
  {
   "cell_type": "code",
   "execution_count": 8,
   "metadata": {
    "collapsed": false
   },
   "outputs": [],
   "source": [
    "#training data preprocessing\n",
    "train_tweets, train_labels, train_word_dict = pre_processing.preprocess_file(TRAIN_DATA_FILE_PATH)\n",
    "#converting tweets to list of vector dictionaries\n",
    "train_feature_dicts = pre_processing.convert_to_feature_dicts(train_tweets, True, 2, train_word_dict) \n",
    "#creating sparse matrix from dictionaries\n",
    "train_sparse = vectorizer.fit_transform(train_feature_dicts).toarray()"
   ]
  },
  {
   "cell_type": "code",
   "execution_count": 9,
   "metadata": {
    "collapsed": true
   },
   "outputs": [],
   "source": [
    "#dev data preprocessing -- same process except we don't remove stop-words and words which are less than n\n",
    "dev_tweets, dev_labels, dev_word_dict = pre_processing.preprocess_file(DEV_DATA_FILE_PATH)\n",
    "dev_feature_dicts = pre_processing.convert_to_feature_dicts(dev_tweets, False, 0, dev_word_dict)\n",
    "dev_sparse = vectorizer.transform(dev_feature_dicts)"
   ]
  },
  {
   "cell_type": "markdown",
   "metadata": {},
   "source": [
    "<b>TUNING AND CLASSIFYING</b>\n",
    "\n",
    "We will train both DecisonTreeClassifier and LogisticRegressionClassifier, and will try to identify best available parameters for the best classifications."
   ]
  },
  {
   "cell_type": "code",
   "execution_count": 10,
   "metadata": {
    "collapsed": false
   },
   "outputs": [
    {
     "name": "stdout",
     "output_type": "stream",
     "text": [
      "0.428649535265\n",
      "             precision    recall  f1-score   support\n",
      "\n",
      "         -1       0.29      0.25      0.27       360\n",
      "          0       0.42      0.56      0.48       700\n",
      "          1       0.52      0.40      0.45       769\n",
      "\n",
      "avg / total       0.44      0.43      0.42      1829\n",
      "\n",
      "--- DT Classification time : 137.391000032 seconds ---\n"
     ]
    }
   ],
   "source": [
    "#decision tree classifier\n",
    "time1 = time.time()\n",
    "dt_classifier = DecisionTreeClassifier()\n",
    "dt_classifier.fit(train_sparse, train_labels)\n",
    "pre_processing.classifying(dt_classifier, dev_sparse, dev_labels)\n",
    "print(\"--- DT Classification time : %s seconds ---\" % (time.time() - time1))\n"
   ]
  },
  {
   "cell_type": "code",
   "execution_count": 11,
   "metadata": {
    "collapsed": false
   },
   "outputs": [
    {
     "name": "stdout",
     "output_type": "stream",
     "text": [
      "Best score: 0.453253143794\n",
      "Parameters : \n",
      "  max_depth: 13\n",
      "  max_features: 'auto'\n",
      "  random_state: 28\n"
     ]
    },
    {
     "data": {
      "image/png": "[encoded data removed]",
      "text/plain": [
       "<matplotlib.figure.Figure at 0x12e8c8d0>"
      ]
     },
     "metadata": {},
     "output_type": "display_data"
    }
   ],
   "source": [
    "#dec_tree_parameters = {'max_depth':np.arange(10,99),'max_features':['auto', 'sqrt', 'log2',None, np.arange(0.01,0.99)],'class_weight':['balanced',{1:0.5,-1:0.3, 0:0.2 }, None]}\n",
    "#tuning process for decision tree\n",
    "dec_tree_parameters = {'max_depth':np.arange(12,14),'max_features':['auto', 'log2'],'random_state':np.arange(27,29)}\n",
    "pre_processing.tuning(dt_classifier, dec_tree_parameters, dev_sparse, dev_labels)"
   ]
  },
  {
   "cell_type": "markdown",
   "metadata": {},
   "source": [
    "<b>Comment:</b>\n",
    "Overfitting occurs when a classifier runs better on some data, but runs bad on others. That is because the classifier overlearns from its training data. In the process of tuning we are running the model with different parameter values on the same data set in order to find best parameter suite. However, since we are running on the same data set this parameter suite, this parameter suite might be good for this data set, but it might be very bad for different data set( the data set that the model have never seen)(i.e the parameter suite might overfit to the development set). In order to determine this situation we can perform cross-validation on the data set in order to evaluate model's performance with the best parameter values on unseen data."
   ]
  },
  {
   "cell_type": "code",
   "execution_count": 12,
   "metadata": {
    "collapsed": false
   },
   "outputs": [
    {
     "name": "stdout",
     "output_type": "stream",
     "text": [
      "0.481683980317\n",
      "             precision    recall  f1-score   support\n",
      "\n",
      "         -1       0.34      0.34      0.34       360\n",
      "          0       0.44      0.64      0.52       700\n",
      "          1       0.71      0.40      0.52       769\n",
      "\n",
      "avg / total       0.53      0.48      0.48      1829\n",
      "\n",
      "--- LR Classification time : 97.9670000076 seconds ---\n"
     ]
    }
   ],
   "source": [
    "#logistic regression classifier\n",
    "time1 = time.time()\n",
    "log_reg_classifier = LogisticRegression(solver='lbfgs', multi_class='multinomial')\n",
    "log_reg_classifier.fit(train_sparse, train_labels)\n",
    "pre_processing.classifying(log_reg_classifier, dev_sparse, dev_labels)\n",
    "print(\"--- LR Classification time : %s seconds ---\" % (time.time() - time1))"
   ]
  },
  {
   "cell_type": "code",
   "execution_count": 13,
   "metadata": {
    "collapsed": false
   },
   "outputs": [
    {
     "name": "stdout",
     "output_type": "stream",
     "text": [
      "Best score: 0.457627118644\n",
      "Parameters : \n",
      "  C: 0.01\n",
      "  random_state: 0\n",
      "  solver: 'newton-cg'\n"
     ]
    },
    {
     "data": {
      "image/png": "[encoded data removed]",
      "text/plain": [
       "<matplotlib.figure.Figure at 0xa402128>"
      ]
     },
     "metadata": {},
     "output_type": "display_data"
    }
   ],
   "source": [
    "#logistic regression tuning\n",
    "log_reg_parameters = { 'C':np.arange(0.01, 0.03), 'random_state':np.arange(0, 3), 'solver':['newton-cg', 'lbfgs']}\n",
    "pre_processing.tuning(LogisticRegression(multi_class='multinomial'), log_reg_parameters, dev_sparse, dev_labels)"
   ]
  },
  {
   "cell_type": "markdown",
   "metadata": {},
   "source": [
    "<b>Comment</b>\n",
    "Since we have to use multi_class:'multinominal', there are two options available for solver method, which are 'newton-cg' and 'lbfgs'. Although, both methods result into the same accuracy score, the execution time for 'newton-cg' method is reasonably less than 'lbfgs' method.\n"
   ]
  },
  {
   "cell_type": "markdown",
   "metadata": {},
   "source": [
    "<b>Comment</b>\n",
    "Our accuracies for two classifiers are below 50% which means none of the classifiers could fit to the development set, despite the fact that we have a huge number of features(#15423). Also, DecisionTree classifier takes much longer time to train than LogisticRegression classifier. This is a challenging task in terms of performance, because the classifier each time tries a different parameter and value, the model has to be retrained each time and the training task is the most expensive task in terms of performance."
   ]
  },
  {
   "cell_type": "markdown",
   "metadata": {},
   "source": [
    "<b>MY LOGISTIC REGRESSION</b>\n",
    "\n",
    "Logistic Regression class from scratch, [only predict and predict proba methods]\n",
    "Initialization parameters are taken from the builtin LogisticRegression classifier which we trained above."
   ]
  },
  {
   "cell_type": "code",
   "execution_count": 14,
   "metadata": {
    "collapsed": true
   },
   "outputs": [],
   "source": [
    "#definition of MyLogisticRegression class, it imitates the builtin LogisticRegression class\n",
    "class MyLogisticRegression:\n",
    "    \n",
    "    #initializes parameters\n",
    "    def __init__(self, weights, constants, labels):\n",
    "        self.weights = weights #coefs\n",
    "        self.constants = constants #intercepts\n",
    "        self.labels = labels #classes\n",
    "\n",
    "    #predicts the probability of each class according to the formula\n",
    "    def predict_proba(self, X):\n",
    "        \n",
    "        result = []\n",
    "        for row in X:\n",
    "\n",
    "            dotProdNeg = np.exp(np.add(np.dot(row.toarray(),self.weights[0]),self.constants[0]))[0]\n",
    "            dotProdNeut = np.exp(np.add(np.dot(row.toarray(),self.weights[1]),self.constants[1]))[0]\n",
    "            dotProdPos = np.exp(np.add(np.dot(row.toarray(),self.weights[2]),self.constants[2]))[0]\n",
    "            Z = dotProdNeg + dotProdNeut + dotProdPos\n",
    "            \n",
    "            dotProdNeg = dotProdNeg/Z;\n",
    "            dotProdNeut = dotProdNeut/Z;\n",
    "            dotProdPos = dotProdPos/Z;\n",
    "            \n",
    "            result.append([dotProdNeg,dotProdNeut,dotProdPos])\n",
    "            \n",
    "        return result;  \n",
    "        \n",
    "    #finds the label\n",
    "    def label(self,y):\n",
    "        return self.labels[y]\n",
    "    \n",
    "    #calculates the probabilities and returns the labels corresponding to the maximum probability\n",
    "    def predict(self, X):\n",
    "\n",
    "        Z = self.predict_proba(X)\n",
    "        sig = []\n",
    "        for row in Z:\n",
    "            dotProdNeg = 1 / (1 + np.exp(-1 * row[0]))\n",
    "            dotProdNeut = 1 / (1 + np.exp(-1 * row[1]))\n",
    "            dotProdPos = 1 / (1 + np.exp(-1 * row[2]))\n",
    "            sig.append([dotProdNeg, dotProdNeut, dotProdPos])    \n",
    "        #finds the labels of maxi-probabilities\n",
    "        labels=map(self.label, np.argmax(sig, axis=1))\n",
    "        \n",
    "        return labels"
   ]
  },
  {
   "cell_type": "code",
   "execution_count": 15,
   "metadata": {
    "collapsed": false
   },
   "outputs": [],
   "source": [
    "#the definition of class is above\n",
    "my_clf = MyLogisticRegression(log_reg_classifier.coef_, log_reg_classifier.intercept_, log_reg_classifier.classes_)\n",
    "#creating 5 sample data from development set to test if the classifier creates same results\n",
    "sample_data = dev_sparse[0:5]\n",
    "my_predict = my_clf.predict(sample_data)\n",
    "my_predict_proba = my_clf.predict_proba(sample_data)\n",
    "\n",
    "log_reg_predict = log_reg_classifier.predict(sample_data)\n",
    "log_reg_predict_proba = log_reg_classifier.predict_proba(sample_data)"
   ]
  },
  {
   "cell_type": "markdown",
   "metadata": {},
   "source": [
    "Classifier Comparison:"
   ]
  },
  {
   "cell_type": "code",
   "execution_count": 16,
   "metadata": {
    "collapsed": false
   },
   "outputs": [
    {
     "name": "stdout",
     "output_type": "stream",
     "text": [
      "Predict proba : They are equal\n"
     ]
    }
   ],
   "source": [
    "#show that my classifier's predict_proba method creates the same probablities with built-in log. regression\n",
    "#(may have little calc. differences so I used np.allclose method)\n",
    "if np.allclose(np.asarray(my_predict_proba), np.asarray(log_reg_predict_proba)):\n",
    "    print 'Predict proba : They are equal'\n",
    "else:\n",
    "    print 'Predict proba : They are not equal'"
   ]
  },
  {
   "cell_type": "code",
   "execution_count": 17,
   "metadata": {
    "collapsed": false
   },
   "outputs": [
    {
     "name": "stdout",
     "output_type": "stream",
     "text": [
      "Predict : They are equal\n"
     ]
    }
   ],
   "source": [
    "#show that my classifier's predict method creates the same labels with built-in log. regression\n",
    "if np.array_equal(np.asarray(my_predict), np.asarray(log_reg_predict)):\n",
    "    print 'Predict : They are equal'\n",
    "else:\n",
    "    print 'Predict : They are not equal'"
   ]
  },
  {
   "cell_type": "markdown",
   "metadata": {},
   "source": [
    "<b>POLARITY LEXICON</b>\n",
    "\n",
    "There are four different lexicons we are going to use. Sentiword_net, Manual Lexicon, Word2vec, Brown corpus with PPMI."
   ]
  },
  {
   "cell_type": "markdown",
   "metadata": {},
   "source": [
    "<b>SEEDS</b>"
   ]
  },
  {
   "cell_type": "code",
   "execution_count": 18,
   "metadata": {
    "collapsed": true
   },
   "outputs": [],
   "source": [
    "positive_seeds = [\"good\",\"nice\",\"excellent\",\"positive\",\"fortunate\",\"correct\",\"superior\",\"great\"]\n",
    "negative_seeds = [\"bad\",\"nasty\",\"poor\",\"negative\",\"unfortunate\",\"wrong\",\"inferior\",\"awful\"]"
   ]
  },
  {
   "cell_type": "markdown",
   "metadata": {},
   "source": [
    "<b>MANUAL LEXICON</b>"
   ]
  },
  {
   "cell_type": "code",
   "execution_count": 19,
   "metadata": {
    "collapsed": true
   },
   "outputs": [],
   "source": [
    "#manually annotated set\n",
    "positive_words = opinion_lexicon.positive()\n",
    "negative_words = opinion_lexicon.negative()"
   ]
  },
  {
   "cell_type": "markdown",
   "metadata": {},
   "source": [
    "<b>1. SENTIWORD _NET </b>\n",
    "\n",
    "Sentiword is a lexicon which has polarity scores for words. We are going to use it in this block.\n",
    "The definitions of the methods are on top of each method. Also, there are explanations for some important operations in the methods. The important method is 'sentiword_net_calc()'. This method returns two lists which are lists of positive and negative words in sysnset. We decide whether a word is positive or negative by looking all of the lemmas of that word and we get the most common polarity score as the result."
   ]
  },
  {
   "cell_type": "code",
   "execution_count": 20,
   "metadata": {
    "collapsed": true
   },
   "outputs": [],
   "source": [
    "\n",
    "class SentiWord_Class:\n",
    "\n",
    "    #this method compares pos_score and neg_score of synset_name, and with obj_score, then selects the bigger one as polarity type\n",
    "    def get_polarity_type(self, synset_name):\n",
    "        swn_synset =  swn.senti_synset(synset_name)#brings synset\n",
    "        if not swn_synset:\n",
    "            return None\n",
    "        elif swn_synset.pos_score() > swn_synset.neg_score() and swn_synset.pos_score() > swn_synset.obj_score():\n",
    "            return 1\n",
    "        elif swn_synset.neg_score() > swn_synset.pos_score() and swn_synset.neg_score() > swn_synset.obj_score():\n",
    "            return -1\n",
    "        else:\n",
    "            return 0\n",
    "\n",
    "    #returns the global resulting positive and negative lists \n",
    "    def sentiword_net_calc(self):\n",
    "        syn_pos_list = []\n",
    "        syn_neg_list = []\n",
    "        #move through all synsets\n",
    "        for synset in wn.all_synsets():\n",
    "            #select each lemmas in the synsets\n",
    "            for lemma in synset.lemmas():\n",
    "                #take lemma_list for each lemma\n",
    "                lemma_list = list(swn.senti_synsets(str(lemma.name())))\n",
    "                lemma_dict = {}\n",
    "                for lem in lemma_list:\n",
    "                    count = self.get_polarity_type(lem.synset.name())\n",
    "                    #dictionary collects positive, negative and neutral count of lemmas\n",
    "                    lemma_dict[count] = lemma_dict.get(count, 0) + 1\n",
    "\n",
    "                #filter the dictionary according to the number of positive, negative and neutral counts\n",
    "                key, _ = max(lemma_dict.iteritems(), key=lambda x:x[1])    \n",
    "                if key == 1:\n",
    "                    syn_pos_list.append(str(lemma.name()))\n",
    "                elif key == -1:\n",
    "                    syn_neg_list.append(str(lemma.name()))\n",
    "\n",
    "        return syn_pos_list, syn_neg_list"
   ]
  },
  {
   "cell_type": "code",
   "execution_count": 21,
   "metadata": {
    "collapsed": true
   },
   "outputs": [],
   "source": [
    "sentiword_net = SentiWord_Class()#creates an instance from SentiWord_Class"
   ]
  },
  {
   "cell_type": "code",
   "execution_count": 22,
   "metadata": {
    "collapsed": false
   },
   "outputs": [],
   "source": [
    "#import sentiword_net\n",
    "\n",
    "syn_pos_list = []#the list of positive words in synset\n",
    "syn_neg_list = []#the list of negative words in synset\n",
    "#syn_pos_list, syn_neg_list = sentiword_net.sentiword_net_calc()\n",
    "syn_pos_list, syn_neg_list = sentiword_net.sentiword_net_calc()"
   ]
  },
  {
   "cell_type": "code",
   "execution_count": 23,
   "metadata": {
    "collapsed": false
   },
   "outputs": [
    {
     "name": "stdout",
     "output_type": "stream",
     "text": [
      "(\"'boffo'\", False)\n",
      "(\"'trustfulness'\", False)\n",
      "(\"'lasciviousness'\", False)\n",
      "(\"'free-spoken'\", False)\n",
      "(\"'reenlistment'\", False)\n"
     ]
    }
   ],
   "source": [
    "#this block takes 5 random value from syn_pos_list and compares the results with positive words list of manual annotated set\n",
    "i = 0\n",
    "while(i<5):\n",
    "    i += 1\n",
    "    random_index = randrange(0,len(syn_pos_list))\n",
    "    print ('\\''+syn_pos_list[random_index]+'\\'' , syn_pos_list[random_index] in set(positive_words))\n",
    "    "
   ]
  },
  {
   "cell_type": "code",
   "execution_count": 24,
   "metadata": {
    "collapsed": false
   },
   "outputs": [
    {
     "name": "stdout",
     "output_type": "stream",
     "text": [
      "(\"'flub'\", False)\n",
      "(\"'Pythium_debaryanum'\", False)\n",
      "(\"'scrofulous'\", False)\n",
      "(\"'thankless'\", True)\n",
      "(\"'laxity'\", False)\n"
     ]
    }
   ],
   "source": [
    "#this block takes 5 random value from syn_neg_list and compares the results with negative words list of manual annotated set\n",
    "i = 0\n",
    "while(i<5):\n",
    "    i += 1\n",
    "    random_index = randrange(0,len(syn_neg_list))\n",
    "    print ('\\''+syn_neg_list[random_index]+'\\'' , syn_neg_list[random_index] in set(negative_words))\n",
    "     "
   ]
  },
  {
   "cell_type": "markdown",
   "metadata": {},
   "source": [
    "<b>Comment:</b>\n",
    "Note that FALSE results only show that the word is not included in the manually annotated lexicon.\n",
    "By intuition the words \"confirmable, neat and hearty\" look positive words and the lexicon identified them as positive, thefore it is correct. However since they are not in the manually annotated lexicon the result was False for them. Because, the size of the manually annotated set is very small. Since the lexicon finds the most common polarity among the lemmas of the words, that may help to better identification."
   ]
  },
  {
   "cell_type": "markdown",
   "metadata": {},
   "source": [
    "<b>2. COSINE SIMILARITY</b>\n",
    "\n",
    "This block includes the Cosine similarity. We will calculate cosine similarity between our seeds above and the words in gensim vovabulary."
   ]
  },
  {
   "cell_type": "code",
   "execution_count": 25,
   "metadata": {
    "collapsed": true
   },
   "outputs": [],
   "source": [
    "\n",
    "word2vec_sample = str(find('models/word2vec_sample/pruned.word2vec.txt'))\n",
    "model = gensim.models.Word2Vec.load_word2vec_format(word2vec_sample, binary=False)\n",
    "\n",
    "class CosSimilarity_Class:\n",
    "\n",
    "    def cos_similarity(self, positive_seeds, negative_seeds):\n",
    "\n",
    "        #calculating cosine similarity between our seeds and the words in gensim vocabulary, creates matrixes\n",
    "        pos = cosine_similarity(model[positive_seeds], model[model.vocab.keys()])\n",
    "        neg = -1 * cosine_similarity(model[negative_seeds], model[model.vocab.keys()])\n",
    "\n",
    "        #creating matrixes' transposes, because we need a matrix showing cos distances of each word in the vocab to each seed words\n",
    "        #for example the transpose of pos matrix will create a 8 rows and len(vocab) columns matrix\n",
    "        pos = pos.T \n",
    "        neg = neg.T\n",
    "\n",
    "        total_cs = pos + neg\n",
    "\n",
    "        all_words = np.asarray(model.vocab.keys())\n",
    "        #finding the average of value in the matrix\n",
    "        total_cs_avg = np.average(total_cs, axis = 1)\n",
    "\n",
    "        #filtering the words according to the total average and creating pos and neg words lists\n",
    "        pos_words = all_words[np.where(total_cs_avg>0.03)[0]]\n",
    "        pos_words_score = total_cs_avg[np.where(total_cs_avg>0.03)[0]]\n",
    "\n",
    "        neg_words = all_words[np.where(total_cs_avg<-0.03)[0]]\n",
    "        neg_words_score = total_cs_avg[np.where(total_cs_avg<-0.03)[0]]\n",
    "\n",
    "        return pos_words, pos_words_score, neg_words, neg_words_score\n",
    "    "
   ]
  },
  {
   "cell_type": "code",
   "execution_count": 26,
   "metadata": {
    "collapsed": true
   },
   "outputs": [],
   "source": [
    "cosine_sim = CosSimilarity_Class()#creates an instance from CosSimilarity_Class"
   ]
  },
  {
   "cell_type": "code",
   "execution_count": 27,
   "metadata": {
    "collapsed": true
   },
   "outputs": [],
   "source": [
    "cs_pos_list, cs_pos_words_score, cs_neg_list, cs_neg_words_score = cosine_sim.cos_similarity(positive_seeds, negative_seeds)"
   ]
  },
  {
   "cell_type": "code",
   "execution_count": 28,
   "metadata": {
    "collapsed": false
   },
   "outputs": [
    {
     "name": "stdout",
     "output_type": "stream",
     "text": [
      "(u\"'champion'\", True)\n",
      "(u\"'reconnaissance'\", False)\n",
      "(u\"'toasted'\", False)\n",
      "(u\"'undying'\", False)\n",
      "(u\"'strategic'\", False)\n"
     ]
    }
   ],
   "source": [
    "#this block takes 5 random value from cs_pos_list and compares the results with positive words list of manual annotated set\n",
    "\n",
    "i = 0\n",
    "while(i<5):\n",
    "    i += 1\n",
    "    random_index = randrange(0,len(cs_pos_list))\n",
    "    print ('\\''+cs_pos_list[random_index]+'\\'', cs_pos_list[random_index] in set(positive_words))\n"
   ]
  },
  {
   "cell_type": "code",
   "execution_count": 29,
   "metadata": {
    "collapsed": false
   },
   "outputs": [
    {
     "name": "stdout",
     "output_type": "stream",
     "text": [
      "(u\"'unfertilized'\", False)\n",
      "(u\"'rubbed'\", False)\n",
      "(u\"'numbing'\", False)\n",
      "(u\"'beards'\", False)\n",
      "(u\"'Policies'\", False)\n"
     ]
    }
   ],
   "source": [
    "#this block takes 5 random value from cs_neg_list and compares the results with negative words list of manual annotated set\n",
    "i = 0\n",
    "while(i<5):\n",
    "    i += 1\n",
    "    random_index = randrange(0,len(cs_neg_list))\n",
    "    print ('\\''+cs_neg_list[random_index]+'\\'' , cs_neg_list[random_index] in set(negative_words))\n",
    "    "
   ]
  },
  {
   "cell_type": "markdown",
   "metadata": {},
   "source": [
    "<b>Comment:</b>\n",
    "It identifies the positive words like 'complement', 'imaginative' as positive and negative words like 'scream' as negative. Some of the words such as 'deport' classified as negative, however they intuitively look like neutral. "
   ]
  },
  {
   "cell_type": "code",
   "execution_count": 30,
   "metadata": {
    "collapsed": true
   },
   "outputs": [],
   "source": [
    "#creates dictionaries of pos and neg words to increase performance\n",
    "cs_pos_dict = dict(zip(cs_pos_list, cs_pos_words_score))\n",
    "cs_neg_dict = dict(zip(cs_neg_list, cs_neg_words_score))"
   ]
  },
  {
   "cell_type": "markdown",
   "metadata": {},
   "source": [
    "<b>3. PPMI</b>\n",
    "\n",
    "This block contains calculating PPMI with the help of Brown corpus. The blok consists of:\n",
    "preprocessing step, \n",
    "creating pmi matrix step, \n",
    "calculating total and \n",
    "finding average(filtering) step. THere are definitions on top of each methods and explanations for important code blocks."
   ]
  },
  {
   "cell_type": "code",
   "execution_count": 31,
   "metadata": {
    "collapsed": true
   },
   "outputs": [],
   "source": [
    "\n",
    "class PPMI_Class:\n",
    "    \n",
    "    def init():\n",
    "        pass\n",
    "    \n",
    "    #preprocessing of PPMI\n",
    "    def prep_ppmi(self, pos_set, neg_set):\n",
    "        #finding the frequency of each word in brown corpus, but counting only once in each file\n",
    "        word_freq = {}\n",
    "        files = brown.fileids()\n",
    "        length = len(files)\n",
    "        for i in range(length):\n",
    "            cur_file_words = brown.words(files[i])\n",
    "            for j in range(len(cur_file_words)):\n",
    "                    word_freq[str(files[i]) + '_' + cur_file_words[j]] = 1  #count only once since it is binary\n",
    "\n",
    "        #calculating frequency\n",
    "        word_freq_n = {}\n",
    "        for word in word_freq:\n",
    "        #     pdb.set_trace()\n",
    "            word = re.sub(r'.+_', '', word, flags=re.IGNORECASE)\n",
    "            word_freq_n[word] = word_freq_n.get(word, 0) + 1\n",
    "\n",
    "        word_freq = word_freq_n #we put every single word counts into dictionary word_freq\n",
    "\n",
    "        #co-ocurrence\n",
    "        #finds each word combinations appearing together in a file\n",
    "        #this process doesn't get in sentence level(like 'good idea' appearing together), it worksin file level\n",
    "        #namely it is enough for us to consider the two words have cooccurence if they appear in the same text, (no location concern) \n",
    "        word_freq_co = {}\n",
    "        files = brown.fileids()\n",
    "        length = len(files)\n",
    "        for i in range(length):\n",
    "            cur_file_words = brown.words(files[i])\n",
    "            #pdb.set_trace()\n",
    "            for j in range(len(cur_file_words)):\n",
    "                if (cur_file_words[j] in pos_set or cur_file_words[j] in neg_set):\n",
    "                    for doc_word in cur_file_words:\n",
    "                        #we are adding the file_id to the front in order to escape from duplicates\n",
    "                        word_freq_co[str(files[i]) + '_' + cur_file_words[j] + '-' + doc_word ] = 1\n",
    "\n",
    "        #calculating frequencies of cooccurences\n",
    "        word_freq_con = {}\n",
    "        for collocation in word_freq_co:\n",
    "            collocation = re.sub(r'.+_', '', collocation, flags=re.IGNORECASE)\n",
    "            word_freq_con[collocation] = word_freq_con.get(collocation, 0) + 1\n",
    "\n",
    "        return word_freq, word_freq_con\n",
    "\n",
    "\n",
    "    #creating the matrixes for representing ppmi results of positive seeds and words in brown corpus \n",
    "    def create_pmi_matrix(self, word_freq, word_freq_con, positive_seeds, negative_seeds):\n",
    "        pmi_matrix_pos = []\n",
    "        total_count = len(brown.words());\n",
    "        for seed in positive_seeds:\n",
    "            row = []\n",
    "            for word in word_freq:\n",
    "                both_count = word_freq_con.get(seed + '-' + word, 0)\n",
    "                word1_count = word_freq.get(seed, 0);\n",
    "                word2_count = word_freq.get(word, 0);\n",
    "\n",
    "                ppmi = math.log((both_count/total_count)/((word1_count/total_count)*(word2_count/total_count)), 2) if both_count!=0 else 0\n",
    "                #ppmi doesn't get negative results\n",
    "                row.append( ppmi if  ppmi > 0 else 0)\n",
    "            pmi_matrix_pos.append(row);\n",
    "\n",
    "        #creating the matrixes for representing ppmi results of negative seeds and words in brown corpus    \n",
    "        pmi_matrix_neg = []\n",
    "        for seed in negative_seeds:\n",
    "            row = []\n",
    "            for word in word_freq:\n",
    "                both_count = word_freq_con.get(seed + '-' + word, 0)\n",
    "                word1_count = word_freq.get(seed, 0);\n",
    "                word2_count = word_freq.get(word, 0);\n",
    "\n",
    "                ppmi = math.log((both_count/total_count)/((word1_count/total_count)*(word2_count/total_count)), 2)  if both_count!=0 else 0\n",
    "                #ppmi doesn't get negative results\n",
    "                row.append( ppmi if  ppmi > 0 else 0)\n",
    "                #row.append( math.log((both_count/total_count)/((word1_count/total_count)*(word2_count/total_count)), 2) if both_count!=0 else 0)\n",
    "            pmi_matrix_neg.append(row);\n",
    "\n",
    "        return pmi_matrix_pos, pmi_matrix_neg\n",
    "\n",
    "\n",
    "    #creating matrixes' transposes, because we need a matrix showing ppmi of each word in the vocab to each seed words\n",
    "    #for example the transpose of pmi_pos matrix will create a 8 rows and len(vocab) columns matrix\n",
    "    def create_total_avg_matrix(self, pmi_matrix_pos, pmi_matrix_neg):\n",
    "        pmi_matrix_pos = np.asarray(pmi_matrix_pos).T\n",
    "        pmi_matrix_neg = (-1*np.asarray( pmi_matrix_neg)).T\n",
    "        total = pmi_matrix_pos + pmi_matrix_neg\n",
    "        #then we get the total and average\n",
    "        total_avg = np.average(total,axis = 1)\n",
    "        # pmi_matrix_avg_pos = np.average(pmi_matrix_pos,axis=1)\n",
    "        # pmi_matrix_avg_neg = np.average(pmi_matrix_neg,axis=1)\n",
    "        return total_avg\n",
    "\n",
    "    #filtering the words according to the total average and creating pos and neg words lists    \n",
    "    def filter(self, word_freq, total_avg):\n",
    "\n",
    "        words =  np.asarray(word_freq.keys())\n",
    "        pmi_positive_words = words[np.where(total_avg>0.03)[0]]\n",
    "        pos_words_score = total_avg[np.where(total_avg>0.03)[0]]\n",
    "\n",
    "        #the formula below could be used to get most importants, @@TODO\n",
    "        # pos_dict = sorted(pos_dict.items(), key=operator.itemgetter(1),reverse=True)\n",
    "\n",
    "        pmi_negative_words = words[np.where(total_avg<-0.03)[0]]\n",
    "        neg_words_score = total_avg[np.where(total_avg<-0.03)[0]]\n",
    "\n",
    "        # neg_dict = sorted(neg_dict.items(), key=operator.itemgetter(1),reverse=True)\n",
    "\n",
    "        return pmi_positive_words, pos_words_score, pmi_negative_words, neg_words_score"
   ]
  },
  {
   "cell_type": "code",
   "execution_count": 32,
   "metadata": {
    "collapsed": true
   },
   "outputs": [],
   "source": [
    "#put seeds into set for better performance\n",
    "pos_set = set(positive_seeds)\n",
    "neg_set = set(negative_seeds)"
   ]
  },
  {
   "cell_type": "code",
   "execution_count": 33,
   "metadata": {
    "collapsed": true
   },
   "outputs": [],
   "source": [
    "#import ppmi\n",
    "ppmi = PPMI_Class()#creates a new instance of PPMI_CLass\n",
    "word_freq, word_freq_con = ppmi.prep_ppmi(pos_set, neg_set)\n",
    "pmi_matrix_pos, pmi_matrix_neg = ppmi.create_pmi_matrix(word_freq, word_freq_con, positive_seeds, negative_seeds)\n",
    "total_avg = ppmi.create_total_avg_matrix(pmi_matrix_pos, pmi_matrix_neg)\n",
    "pmi_positive_list, pmi_pos_words_score, pmi_negative_list, pmi_neg_words_score = ppmi.filter(word_freq, total_avg)"
   ]
  },
  {
   "cell_type": "code",
   "execution_count": 34,
   "metadata": {
    "collapsed": false
   },
   "outputs": [
    {
     "name": "stdout",
     "output_type": "stream",
     "text": [
      "(u\"'complicate'\", False)\n",
      "(u\"'staging'\", False)\n",
      "(u\"'ferret'\", False)\n",
      "(u\"'Lavaughn'\", False)\n",
      "(u\"'Corp.'\", False)\n"
     ]
    }
   ],
   "source": [
    "#this block takes 5 random value from pmi_positive_list and compares the results with positive words list of manual annotated set\n",
    "i = 0\n",
    "while(i<5):\n",
    "    i += 1\n",
    "    random_index = randrange(0,len(pmi_positive_list))\n",
    "    print ('\\''+pmi_positive_list[random_index]+'\\'' , pmi_positive_list[random_index] in set(positive_words))\n",
    "    "
   ]
  },
  {
   "cell_type": "code",
   "execution_count": 35,
   "metadata": {
    "collapsed": false
   },
   "outputs": [
    {
     "name": "stdout",
     "output_type": "stream",
     "text": [
      "(u\"'favors'\", False)\n",
      "(u\"'defiantly'\", True)\n",
      "(u\"'barley'\", False)\n",
      "(u\"'platitudinous'\", False)\n",
      "(u\"'hotel's'\", False)\n"
     ]
    }
   ],
   "source": [
    "#this block takes 5 random value from pmi_negative_list and compares the results with negative words list of manual annotated set\n",
    "i = 0\n",
    "while(i<5):\n",
    "    i += 1\n",
    "    random_index = randrange(0,len(pmi_negative_list))\n",
    "    print ('\\''+pmi_negative_list[random_index]+'\\'' , pmi_negative_list[random_index] in set(negative_words))\n",
    "    "
   ]
  },
  {
   "cell_type": "markdown",
   "metadata": {},
   "source": [
    "<b>Comment:</b>\n",
    "It was really hard to find a word that looks intuitively positive and identified correct in this lexicon. This might be because of the size of documents and words in the brown corpus. A positive word 'gentle' is recognised as positive which is true, however a negative word like 'inaccuracies' identified as positive, which is wrong. Also, many of the neutral words identified as positive or negative. Since we look words appearing in the same text level(not in sentence level), that may not give us valid information about the word's polarity, as polarity can vary in a text."
   ]
  },
  {
   "cell_type": "code",
   "execution_count": 36,
   "metadata": {
    "collapsed": true
   },
   "outputs": [],
   "source": [
    "pmi_pos_dict = dict(zip(pmi_positive_list, pmi_pos_words_score))\n",
    "pmi_neg_dict = dict(zip(pmi_negative_list, pmi_neg_words_score))\n",
    "\n",
    "#print len(np.asarray(word_freq.keys())[total_avg<-0.03])"
   ]
  },
  {
   "cell_type": "markdown",
   "metadata": {},
   "source": [
    "<b>ACCURACY RESULTS OF POLARITY LEXICONS</b>\n",
    "\n",
    "We are going to use a generic class which is Acc_Calculator as defined below for evaluating the accuracies of the lexicons."
   ]
  },
  {
   "cell_type": "code",
   "execution_count": 37,
   "metadata": {
    "collapsed": true
   },
   "outputs": [],
   "source": [
    "\n",
    "class Acc_Calculator:\n",
    "    #accuracy calculator method\n",
    "    def acc_calc(self, pos_list, neg_list, positive_words, negative_words ):\n",
    "\n",
    "        #filtering automatically produced words \n",
    "        syn_neg_words = [s.lower() for s in neg_list]\n",
    "        #taking automatically produced negative words overlapping with manually annotated set\n",
    "        syn_neg_words = set(syn_neg_words) & (set(positive_words) | set(negative_words)) #correct neg words\n",
    "\n",
    "        syn_pos_words = [s.lower() for s in pos_list]\n",
    "        #taking automatically produced positive words overlapping with manually annotated set\n",
    "        syn_pos_words = set(syn_pos_words) & (set(positive_words) | set(negative_words)) #correct pos words\n",
    "\n",
    "        #accuracy result will be the division of correct_results by the all words\n",
    "        acc = (len(set(syn_neg_words) & set(negative_words) ) + len(set(syn_pos_words) & set(positive_words)))/len(set(syn_neg_words) | set(syn_pos_words))\n",
    "        return acc, syn_pos_words, syn_neg_words"
   ]
  },
  {
   "cell_type": "code",
   "execution_count": 38,
   "metadata": {
    "collapsed": true
   },
   "outputs": [],
   "source": [
    "lex_acc_calc = Acc_Calculator()#creates an instance of Acc_Calculator class"
   ]
  },
  {
   "cell_type": "markdown",
   "metadata": {},
   "source": [
    "<b>ACCURACY SENTIWORD_NET</b>"
   ]
  },
  {
   "cell_type": "code",
   "execution_count": 39,
   "metadata": {
    "collapsed": false
   },
   "outputs": [
    {
     "name": "stdout",
     "output_type": "stream",
     "text": [
      "0.845197740113\n"
     ]
    }
   ],
   "source": [
    "acc_senti_word, syn_pos_words, syn_neg_words = lex_acc_calc.acc_calc(syn_pos_list, syn_neg_list, positive_words,negative_words)\n",
    "print acc_senti_word"
   ]
  },
  {
   "cell_type": "markdown",
   "metadata": {},
   "source": [
    "<b>ACCURACY PPMI</b>"
   ]
  },
  {
   "cell_type": "code",
   "execution_count": 40,
   "metadata": {
    "collapsed": false
   },
   "outputs": [
    {
     "name": "stdout",
     "output_type": "stream",
     "text": [
      "0.479035166817\n"
     ]
    }
   ],
   "source": [
    "acc_pmi, pmi_pos_words, pmi_neg_words = lex_acc_calc.acc_calc(pmi_pos_dict.keys(), pmi_neg_dict.keys(), positive_words, negative_words )\n",
    "print acc_pmi"
   ]
  },
  {
   "cell_type": "markdown",
   "metadata": {},
   "source": [
    "<b>ACCURACY COSINE SIMILARITY</b>"
   ]
  },
  {
   "cell_type": "code",
   "execution_count": 41,
   "metadata": {
    "collapsed": false
   },
   "outputs": [
    {
     "name": "stdout",
     "output_type": "stream",
     "text": [
      "0.967262723521\n"
     ]
    }
   ],
   "source": [
    "acc_cos_sim, cs_pos_words, cs_neg_words = lex_acc_calc.acc_calc(cs_pos_dict.keys(), cs_neg_dict.keys(), positive_words, negative_words )\n",
    "print acc_cos_sim"
   ]
  },
  {
   "cell_type": "markdown",
   "metadata": {},
   "source": [
    "<b>TESTING AUTOMATICALLY-PRODUCED LEXICONS AGAINST A MANUALLY-ANNOTATED SET</b>\n",
    "\n",
    "For this task we are going to use the class Lex_Polarity as defined below."
   ]
  },
  {
   "cell_type": "code",
   "execution_count": 42,
   "metadata": {
    "collapsed": true
   },
   "outputs": [],
   "source": [
    "\n",
    "class Lex_Polarity:\n",
    "\n",
    "    #this method calculates the polar score of a sentence according to one of the three lexicons sent as a parameter\n",
    "    def calculate_polar_score(self, sentence, lexicon):\n",
    "        lex_pos_set = lexicon[0]\n",
    "        lex_neg_set = lexicon[1]\n",
    "\n",
    "        pos_count = 0\n",
    "        neg_count = 0\n",
    "        #moves throgh the words in sentence and finds out if they are in pos_list or neg_list\n",
    "        for word in sentence:\n",
    "            if word in lex_pos_set:\n",
    "                pos_count += 1\n",
    "            elif word in lex_neg_set:\n",
    "                neg_count += 1\n",
    "\n",
    "        #then returns the polar score\n",
    "        if pos_count > neg_count:\n",
    "            return 1\n",
    "        elif pos_count < neg_count:\n",
    "            return -1\n",
    "        else:\n",
    "            return 0\n",
    "\n",
    "    #this method calculates accuracy of lexicons\n",
    "    #most common usage is lex_a is one of automatically created lexicons {cs_lex, ppmi_lex, syn_lex} and\n",
    "    #lex_m is manual lexicon. Since we will test these automatically-produced lexicons against the manually-annotated lexicon\n",
    "    #also this method typically works on development set\n",
    "    def get_acc(self, tweets, lex_a, lex_m):\n",
    "        correct_pred = 0\n",
    "        for tweet in tweets:\n",
    "            #itertools.chain(): flattens the tweet, as we have seperated sentences in the tweet\n",
    "            tweet = itertools.chain(*tweet)\n",
    "            pred = self.calculate_polar_score(tweet, lex_a)\n",
    "            act = self.calculate_polar_score(tweet, lex_m)\n",
    "            if(pred == act):\n",
    "                correct_pred += 1\n",
    "        return correct_pred/len(tweets)\n",
    "\n",
    "    #calculates polarity score in given tweet_set with respect to the given lexicon\n",
    "    def get_polarity_score(self, lexicon, tweet_set):\n",
    "        score = []\n",
    "        for tweet in tweet_set:\n",
    "            tweet = itertools.chain(*tweet)\n",
    "            score.append(self.calculate_polar_score(tweet, lexicon))\n",
    "        return score\n",
    "\n",
    "    #We will create polarity vectors and will add them into the sparse matrix as new features\n",
    "    def get_polarity_vectors(self, dev_sparse, tweet_set, cs_lex, ppmi_lex, syn_lex, man_lex):\n",
    "        #we need to get transposes of vectors, as we need each polarity score for each tweet\n",
    "        cs_pol_vector = np.asarray(self.get_polarity_score(cs_lex, tweet_set))[np.newaxis].T\n",
    "        ppmi_pol_vector = np.asarray(self.get_polarity_score(ppmi_lex, tweet_set))[np.newaxis].T\n",
    "        syn_pol_vector = np.asarray(self.get_polarity_score(syn_lex, tweet_set))[np.newaxis].T\n",
    "        man_pol_vector = np.asarray(self.get_polarity_score(man_lex, tweet_set))[np.newaxis].T\n",
    "        dev_sparse2 = dev_sparse.toarray()\n",
    "\n",
    "        #adding the vectors to sparse matrix\n",
    "        dev_sparse2 = np.append(dev_sparse2, cs_pol_vector, axis=1)\n",
    "        dev_sparse2 = np.append(dev_sparse2, ppmi_pol_vector, axis=1)\n",
    "        dev_sparse2 = np.append(dev_sparse2, syn_pol_vector, axis=1)\n",
    "        dev_sparse2 = np.append(dev_sparse2, man_pol_vector, axis=1)\n",
    "\n",
    "        #from scipy import sparse\n",
    "        dev_sparse = sparse.csr_matrix(dev_sparse2)\n",
    "        return dev_sparse\n",
    "\n",
    "    def get_polarity_vectors_imp(self, dev_sparse, tweet_set, cs_lex):\n",
    "        #we need to get transposes of vectors, as we need each polarity score for each tweet\n",
    "        cs_pol_vector = np.asarray(self.get_polarity_score(cs_lex, tweet_set))[np.newaxis].T\n",
    "        dev_sparse2 = dev_sparse.toarray()\n",
    "        dev_sparse2 = np.append(dev_sparse2, cs_pol_vector, axis=1)\n",
    "        #from scipy import sparse\n",
    "        dev_sparse = sparse.csr_matrix(dev_sparse2)\n",
    "        return dev_sparse"
   ]
  },
  {
   "cell_type": "code",
   "execution_count": 43,
   "metadata": {
    "collapsed": true
   },
   "outputs": [],
   "source": [
    "lex_polarity = Lex_Polarity()# creates an instance of Lex_Polarity class"
   ]
  },
  {
   "cell_type": "code",
   "execution_count": 44,
   "metadata": {
    "collapsed": true
   },
   "outputs": [],
   "source": [
    "#import lex_polarity\n",
    "\n",
    "#all lexicons we created so far, represented here as tuples\n",
    "cs_lex = (set(cs_pos_words), set(cs_neg_words))#cosine sim lexicon\n",
    "ppmi_lex = (set(pmi_pos_words),set(pmi_neg_words))#ppmi lexicon\n",
    "syn_lex = (set(syn_pos_words),set(syn_neg_words))#sentiword lexicon\n",
    "man_lex = (set(positive_words),set(negative_words))#manual lexicon"
   ]
  },
  {
   "cell_type": "markdown",
   "metadata": {},
   "source": [
    "<b>A small test</b>"
   ]
  },
  {
   "cell_type": "code",
   "execution_count": 45,
   "metadata": {
    "collapsed": false
   },
   "outputs": [
    {
     "name": "stdout",
     "output_type": "stream",
     "text": [
      "1\n"
     ]
    }
   ],
   "source": [
    "#a small test of a polar score method via ppmi lexicon\n",
    "sentence = \"good habit\"\n",
    "sentence = sentence.split()\n",
    "print lex_polarity.calculate_polar_score(sentence, ppmi_lex)"
   ]
  },
  {
   "cell_type": "markdown",
   "metadata": {},
   "source": [
    "<b>Accuracies</b>"
   ]
  },
  {
   "cell_type": "code",
   "execution_count": 46,
   "metadata": {
    "collapsed": false
   },
   "outputs": [],
   "source": [
    "#We are gettting the accuracies against the manually annotated lexicon(man_lex)\n",
    "cs_lex_accuracy = lex_polarity.get_acc(dev_tweets, cs_lex, man_lex)\n",
    "ppmi_lex_accuracy = lex_polarity.get_acc(dev_tweets, ppmi_lex, man_lex)\n",
    "syn_lex_accuracy = lex_polarity.get_acc(dev_tweets, syn_lex, man_lex)"
   ]
  },
  {
   "cell_type": "code",
   "execution_count": 47,
   "metadata": {
    "collapsed": false
   },
   "outputs": [
    {
     "name": "stdout",
     "output_type": "stream",
     "text": [
      "0.476216511755\n"
     ]
    }
   ],
   "source": [
    "print cs_lex_accuracy"
   ]
  },
  {
   "cell_type": "code",
   "execution_count": 48,
   "metadata": {
    "collapsed": false
   },
   "outputs": [
    {
     "name": "stdout",
     "output_type": "stream",
     "text": [
      "0.358119190815\n"
     ]
    }
   ],
   "source": [
    "print ppmi_lex_accuracy"
   ]
  },
  {
   "cell_type": "code",
   "execution_count": 49,
   "metadata": {
    "collapsed": false
   },
   "outputs": [
    {
     "name": "stdout",
     "output_type": "stream",
     "text": [
      "0.835975943138\n"
     ]
    }
   ],
   "source": [
    "print syn_lex_accuracy"
   ]
  },
  {
   "cell_type": "markdown",
   "metadata": {},
   "source": [
    "<b>Comment:</b>\n",
    "The results show that Sentiwordnet lexicon is the most successful one. Intuitevely speaking, the word without context can be determined as positive, negative or neutral, by looking at its most common polarity among its lemmas. That makes this lexicon stronger than others. Therefore, sentiword_net lexicon resulted in high accuracy."
   ]
  },
  {
   "cell_type": "markdown",
   "metadata": {},
   "source": [
    "<b>ADDING POLARITIES TO THE DATA</b> Includes new \"convert_to_feature_dict function\""
   ]
  },
  {
   "cell_type": "code",
   "execution_count": 50,
   "metadata": {
    "collapsed": false
   },
   "outputs": [],
   "source": [
    "#creating and adding polarity vectors[all of them] for each training and development datas\n",
    "new_train_sparse = lex_polarity.get_polarity_vectors(sparse.csr_matrix(train_sparse), train_tweets, cs_lex, ppmi_lex, syn_lex, man_lex)\n",
    "new_dev_sparse = lex_polarity.get_polarity_vectors(sparse.csr_matrix(dev_sparse), dev_tweets, cs_lex, ppmi_lex, syn_lex, man_lex)"
   ]
  },
  {
   "cell_type": "code",
   "execution_count": 51,
   "metadata": {
    "collapsed": false
   },
   "outputs": [
    {
     "name": "stdout",
     "output_type": "stream",
     "text": [
      "0.513395297977\n",
      "             precision    recall  f1-score   support\n",
      "\n",
      "         -1       0.42      0.28      0.33       360\n",
      "          0       0.46      0.68      0.55       700\n",
      "          1       0.66      0.47      0.55       769\n",
      "\n",
      "avg / total       0.53      0.51      0.51      1829\n",
      "\n"
     ]
    }
   ],
   "source": [
    "#classifier with the best parameters\n",
    "log_reg_classifier = LogisticRegression(solver='lbfgs', multi_class='multinomial', C=0.01, random_state=0)\n",
    "#we will train the classifier with the new sparse document, which has the new features we defined and added as vectors above\n",
    "log_reg_classifier.fit(new_train_sparse, train_labels)\n",
    "pre_processing.classifying(log_reg_classifier, new_dev_sparse, dev_labels)\n"
   ]
  },
  {
   "cell_type": "markdown",
   "metadata": {},
   "source": [
    "<b>Comment:</b>\n",
    "I added the polarity scores to the training data and development data as new features. However, the accuracy of the classifier did not improve, since, the accuracies of our polarity lexicons were not very high. "
   ]
  },
  {
   "cell_type": "markdown",
   "metadata": {},
   "source": [
    "<b>ERROR ANALYSIS AND IMPROVEMENT</b>"
   ]
  },
  {
   "cell_type": "code",
   "execution_count": 52,
   "metadata": {
    "collapsed": false
   },
   "outputs": [
    {
     "data": {
      "text/plain": [
       "[([u'2nd', u'computer', u'with', u'same', u'error', u'!!'],\n",
       "  0.50648623157565975,\n",
       "  0.32756308921587241,\n",
       "  -1,\n",
       "  0),\n",
       " ([u'hopefully',\n",
       "   u'it',\n",
       "   u'works',\n",
       "   u'out',\n",
       "   u'for',\n",
       "   u'dev',\n",
       "   u'to',\n",
       "   u'replace',\n",
       "   u'my',\n",
       "   u'laptop',\n",
       "   u'=)'],\n",
       "  0.45835811663184661,\n",
       "  0.32819928431754086,\n",
       "  1,\n",
       "  0),\n",
       " ([u'spent',\n",
       "   u'over',\n",
       "   u'40',\n",
       "   u'mins',\n",
       "   u'&',\n",
       "   u'gave',\n",
       "   u'up',\n",
       "   u'coz',\n",
       "   u'it',\n",
       "   u'changes',\n",
       "   u'just',\n",
       "   u'before',\n",
       "   u'you',\n",
       "   u'print',\n",
       "   u'every',\n",
       "   u'time',\n",
       "   u'.'],\n",
       "  0.48199944315755483,\n",
       "  0.41640652713230353,\n",
       "  1,\n",
       "  0),\n",
       " ([u'i', u'will', u'be', u'at', u'the', u'race', u'on', u'sun'],\n",
       "  0.45241036233034393,\n",
       "  0.38078293676807834,\n",
       "  1,\n",
       "  0),\n",
       " ([u'you', u\"'\", u've', u'got', u'a', u'month', u'.'],\n",
       "  0.3943898562585505,\n",
       "  0.24524702181480107,\n",
       "  -1,\n",
       "  0),\n",
       " ([u'2nd', u'try', u'!'], 0.40757539904793399, 0.34411394431622883, -1, 1),\n",
       " ([u'on',\n",
       "   u'hold',\n",
       "   u'with',\n",
       "   u'support',\n",
       "   u'for',\n",
       "   u'52',\n",
       "   u'minutes',\n",
       "   u'now',\n",
       "   u'.'],\n",
       "  0.39226126490558011,\n",
       "  0.24074105642177893,\n",
       "  -1,\n",
       "  0),\n",
       " ([u'gotta',\n",
       "   u'find',\n",
       "   u'someone',\n",
       "   u'else',\n",
       "   u'to',\n",
       "   u'fix',\n",
       "   u'the',\n",
       "   u'drive',\n",
       "   u'.'],\n",
       "  0.3911498938196421,\n",
       "  0.36193024000599688,\n",
       "  0,\n",
       "  -1),\n",
       " ([u'this', u'is', u'the', u'3rd', u'picture', u'they', u'show', u'me', u'.'],\n",
       "  0.42416721919958278,\n",
       "  0.23507739428675478,\n",
       "  1,\n",
       "  0),\n",
       " ([u'here',\n",
       "   u'today',\n",
       "   u',',\n",
       "   u'gone',\n",
       "   u'tomorrow',\n",
       "   u'-',\n",
       "   u'but',\n",
       "   u'still',\n",
       "   u'here',\n",
       "   u'!'],\n",
       "  0.54142311259185216,\n",
       "  0.39061619437452455,\n",
       "  1,\n",
       "  0),\n",
       " ([u'this', u'city', u'is', u'changing', u'.'],\n",
       "  0.47097212801252497,\n",
       "  0.3647989383204866,\n",
       "  1,\n",
       "  0),\n",
       " ([u'20',\n",
       "   u'years',\n",
       "   u'since',\n",
       "   u'we',\n",
       "   u\"'\",\n",
       "   u've',\n",
       "   u'come',\n",
       "   u'to',\n",
       "   u'love',\n",
       "   u'you',\n",
       "   u'(&',\n",
       "   u'backward',\n",
       "   u'compatibility',\n",
       "   u')'],\n",
       "  0.49612789841940397,\n",
       "  0.32483991063066747,\n",
       "  -1,\n",
       "  0),\n",
       " ([u'for',\n",
       "   u'the',\n",
       "   u'2nd',\n",
       "   u'time',\n",
       "   u'i',\n",
       "   u'have',\n",
       "   u'been',\n",
       "   u'charged',\n",
       "   u'for',\n",
       "   u'something',\n",
       "   u'i',\n",
       "   u'wasnt',\n",
       "   u'made',\n",
       "   u'aware',\n",
       "   u'of',\n",
       "   u'.'],\n",
       "  0.49827372954589194,\n",
       "  0.44707102980498908,\n",
       "  1,\n",
       "  0),\n",
       " ([u'plz',\n",
       "   u'add',\n",
       "   u'l1520',\n",
       "   u'in',\n",
       "   u'the',\n",
       "   u'1st',\n",
       "   u'wave',\n",
       "   u'of',\n",
       "   u'windows10',\n",
       "   u'phones',\n",
       "   u'release',\n",
       "   u'.',\n",
       "   u'plz',\n",
       "   u'dont',\n",
       "   u'hurt',\n",
       "   u'ur',\n",
       "   u'diehardfans'],\n",
       "  0.37030989360193745,\n",
       "  0.29867113995241107,\n",
       "  -1,\n",
       "  0),\n",
       " ([u'history', u'always', u'repeats', u'!'],\n",
       "  0.44173233846094984,\n",
       "  0.3087132114573331,\n",
       "  1,\n",
       "  0),\n",
       " ([u':)'], 0.49573789394726009, 0.4043464374486091, 1, 0),\n",
       " ([u'startup', u'your', u'monday', u'in', u'the', u'right', u'way', u'.'],\n",
       "  0.48501678857767705,\n",
       "  0.43728271668335339,\n",
       "  1,\n",
       "  0),\n",
       " ([u'predictive',\n",
       "   u'analytics',\n",
       "   u'withazuremachine',\n",
       "   u'learning',\n",
       "   u'2nd',\n",
       "   u'ed',\n",
       "   u'.'],\n",
       "  0.47423470111829913,\n",
       "  0.45930999216159113,\n",
       "  1,\n",
       "  0),\n",
       " ([u':)'], 0.44924756494780549, 0.41257325702406522, 1, 0),\n",
       " ([u'i',\n",
       "   u'don',\n",
       "   u\"'\",\n",
       "   u't',\n",
       "   u'have',\n",
       "   u'internet',\n",
       "   u'until',\n",
       "   u'thursday',\n",
       "   u'and',\n",
       "   u'my',\n",
       "   u'xbox',\n",
       "   u'one',\n",
       "   u'won',\n",
       "   u\"'\",\n",
       "   u't',\n",
       "   u'even',\n",
       "   u'let',\n",
       "   u'me',\n",
       "   u'sign',\n",
       "   u'onto',\n",
       "   u'my',\n",
       "   u'account',\n",
       "   u'offline',\n",
       "   u'.'],\n",
       "  0.45635416281238544,\n",
       "  0.45183503342005932,\n",
       "  1,\n",
       "  0),\n",
       " ([u'lunch',\n",
       "   u'-',\n",
       "   u'and',\n",
       "   u'-',\n",
       "   u'learn',\n",
       "   u',',\n",
       "   u'inpalm',\n",
       "   u'coast',\n",
       "   u',',\n",
       "   u'this',\n",
       "   u'wednesday',\n",
       "   u',',\n",
       "   u'sept',\n",
       "   u'9th',\n",
       "   u':'],\n",
       "  0.40012812895289346,\n",
       "  0.24506542274970428,\n",
       "  -1,\n",
       "  1),\n",
       " ([u'you', u'coming', u'sat', u'?'],\n",
       "  0.45482807152845417,\n",
       "  0.44294223002083166,\n",
       "  0,\n",
       "  1),\n",
       " ([u'6',\n",
       "   u'years',\n",
       "   u'ago',\n",
       "   u'this',\n",
       "   u'weekend',\n",
       "   u',',\n",
       "   u'i',\n",
       "   u'saw',\n",
       "   u'ac',\n",
       "   u'/',\n",
       "   u'dc',\n",
       "   u'at',\n",
       "   u'united',\n",
       "   u'center',\n",
       "   u'on',\n",
       "   u'a',\n",
       "   u'friday',\n",
       "   u'and',\n",
       "   u'blink',\n",
       "   u'-',\n",
       "   u'182',\n",
       "   u'in',\n",
       "   u'tinley',\n",
       "   u'the',\n",
       "   u'next',\n",
       "   u'day',\n",
       "   u'.'],\n",
       "  0.47073723120208522,\n",
       "  0.3920936097084316,\n",
       "  1,\n",
       "  0),\n",
       " ([u'no',\n",
       "   u'power',\n",
       "   u'at',\n",
       "   u'home',\n",
       "   u',',\n",
       "   u'sat',\n",
       "   u'in',\n",
       "   u'the',\n",
       "   u'dark',\n",
       "   u'listening',\n",
       "   u'to',\n",
       "   u'ac',\n",
       "   u'/',\n",
       "   u'dc',\n",
       "   u'in',\n",
       "   u'the',\n",
       "   u'hope',\n",
       "   u'that',\n",
       "   u'it',\n",
       "   u\"'\",\n",
       "   u'll',\n",
       "   u'make',\n",
       "   u'the',\n",
       "   u'electricity',\n",
       "   u'come',\n",
       "   u'back'],\n",
       "  0.42733512639307208,\n",
       "  0.40655285165404503,\n",
       "  0,\n",
       "  1),\n",
       " ([u'also',\n",
       "   u'have',\n",
       "   u'ac',\n",
       "   u'/',\n",
       "   u'dc',\n",
       "   u'on',\n",
       "   u'the',\n",
       "   u'26th',\n",
       "   u'and',\n",
       "   u'buckcherry',\n",
       "   u'at',\n",
       "   u'starland',\n",
       "   u'on',\n",
       "   u'the',\n",
       "   u'28th',\n",
       "   u'before',\n",
       "   u'the',\n",
       "   u'carney',\n",
       "   u'!'],\n",
       "  0.50565874472703942,\n",
       "  0.37081922215417468,\n",
       "  1,\n",
       "  0),\n",
       " ([u'ac',\n",
       "   u'/',\n",
       "   u'dc',\n",
       "   u'with',\n",
       "   u'vintage',\n",
       "   u'trouble',\n",
       "   u'at',\n",
       "   u'gillette',\n",
       "   u'stadium',\n",
       "   u'on',\n",
       "   u'sat',\n",
       "   u',',\n",
       "   u'8',\n",
       "   u'/',\n",
       "   u'22',\n",
       "   u'!'],\n",
       "  0.46063213528336422,\n",
       "  0.4388376779804441,\n",
       "  1,\n",
       "  0),\n",
       " ([u'i',\n",
       "   u'have',\n",
       "   u'2',\n",
       "   u'extra',\n",
       "   u'tickets',\n",
       "   u'(',\n",
       "   u'on',\n",
       "   u'the',\n",
       "   u'field',\n",
       "   u'!)'],\n",
       "  0.51230547975862284,\n",
       "  0.32091944120854199,\n",
       "  -1,\n",
       "  0),\n",
       " ([u'for',\n",
       "   u'the',\n",
       "   u'ac',\n",
       "   u'/',\n",
       "   u'dc',\n",
       "   u'concert',\n",
       "   u'on',\n",
       "   u'saturday',\n",
       "   u'night',\n",
       "   u'at',\n",
       "   u'gillette',\n",
       "   u'stadium',\n",
       "   u'.'],\n",
       "  0.44518065464039053,\n",
       "  0.40011559573718952,\n",
       "  -1,\n",
       "  0),\n",
       " ([u'i', u\"'\", u'm', u'looking', u'...'],\n",
       "  0.53808234582500647,\n",
       "  0.41883342644346766,\n",
       "  1,\n",
       "  0),\n",
       " ([u'ac',\n",
       "   u'/',\n",
       "   u'dc',\n",
       "   u'will',\n",
       "   u'winrock',\n",
       "   u'1000',\n",
       "   u'with',\n",
       "   u'thunderstruck',\n",
       "   u'!'],\n",
       "  0.50730094389480851,\n",
       "  0.33246634491302396,\n",
       "  0,\n",
       "  1)]"
      ]
     },
     "execution_count": 52,
     "metadata": {},
     "output_type": "execute_result"
    }
   ],
   "source": [
    "#sampling data 80/20\n",
    "\n",
    "#splitting the training set\n",
    "#we are finding indices to able to know which data are selected, \n",
    "#so we can get the corresponding data in all matrixes such as from train_tweets, train_sparse etc.\n",
    "train_indices = np.random.rand(new_train_sparse.shape[0]) < 0.8\n",
    "# test_indices =  np.random.rand(new_train_sparse.shape[0]) > 0.8\n",
    "test_indices = np.asarray([not x for x in train_indices])\n",
    "\n",
    "#X_train: training data and y_train:label\n",
    "X_train = new_train_sparse[train_indices]\n",
    "y_train = np.asarray(train_labels)[train_indices]\n",
    "\n",
    "#X_test: test data and y_test:label\n",
    "X_test = new_train_sparse[test_indices]\n",
    "y_test = np.asarray(train_labels)[test_indices]\n",
    "\n",
    "# X_test, y_train, y_test = train_test_split(new_train_sparse, train_labels, test_size=0.20, random_state=42)\n",
    "log_reg_classifier.fit(X_train, y_train)\n",
    "\n",
    "#finding predicted probabilities with predict_proba method of the classifier\n",
    "pred_probas = log_reg_classifier.predict_proba(X_test)\n",
    "#finding predicted classes with predict method of the classifier\n",
    "pred_labels = log_reg_classifier.predict(X_test)\n",
    "#actual classes are the labels in our training set\n",
    "act_labels = y_test\n",
    "act_proba = []\n",
    "\n",
    "#finding actual probalities from act_labels list, with the help of the indices defined above\n",
    "for i in range(len(act_labels)):\n",
    "    act_proba.append(pred_probas[i][act_labels[i]+1])\n",
    "\n",
    "pred_probas  = np.max(pred_probas,axis=1)\n",
    "\n",
    "#finding the error between pred_probas and act_probas\n",
    "error = np.asarray(pred_probas) - np.asarray(act_proba)\n",
    "\n",
    "train_tweets_flatten = [val for tweetList in train_tweets for val in tweetList]\n",
    "\n",
    "#printing first 30 results, where the probability of the predicted class and the actual class are fairly close (less than 0.2)\n",
    "error_ind = np.where((error<0.2) & ( error>0))\n",
    "zip(np.asarray(train_tweets_flatten)[error_ind],pred_probas[error_ind],np.asarray(act_proba)[error_ind],act_labels[error_ind],pred_labels[error_ind])[0:30]\n"
   ]
  },
  {
   "cell_type": "code",
   "execution_count": 53,
   "metadata": {
    "collapsed": false
   },
   "outputs": [],
   "source": [
    "#err_analyser = Error_Analyser()#creates an instance from Error_Analyser\n",
    "#print err_analyser.analyse()"
   ]
  },
  {
   "cell_type": "code",
   "execution_count": 54,
   "metadata": {
    "collapsed": false
   },
   "outputs": [],
   "source": [
    "# 1.0 * len(error[np.where(error > 0)])/len(error)"
   ]
  },
  {
   "cell_type": "markdown",
   "metadata": {},
   "source": [
    "<b>IMPROVEMENT</b>|"
   ]
  },
  {
   "cell_type": "code",
   "execution_count": 55,
   "metadata": {
    "collapsed": false
   },
   "outputs": [],
   "source": [
    "#taking the data from files(train and dev) again in order to apply the improved preprocess \n",
    "impr_train_tweets, impr_train_labels, impr_train_word_dict = pre_processing.preprocess_file_improvement(TRAIN_DATA_FILE_PATH)\n",
    "impr_train_feature_dicts = pre_processing.convert_to_feature_dicts(impr_train_tweets, True, 2, impr_train_word_dict) \n",
    "impr_train_sparse = vectorizer.fit_transform(impr_train_feature_dicts).toarray()\n",
    "\n",
    "impr_dev_tweets, impr_dev_labels, impr_dev_word_dict = pre_processing.preprocess_file_improvement(DEV_DATA_FILE_PATH)\n",
    "impr_dev_feature_dicts = pre_processing.convert_to_feature_dicts(impr_dev_tweets, True, 2, impr_dev_word_dict)\n",
    "impr_dev_sparse = vectorizer.transform(impr_dev_feature_dicts)"
   ]
  },
  {
   "cell_type": "code",
   "execution_count": 56,
   "metadata": {
    "collapsed": false
   },
   "outputs": [],
   "source": [
    "#in this case we are adding only sentiword_net lexicon to data, because it has the best accuracy\n",
    "impr_new_train_sparse = lex_polarity.get_polarity_vectors_imp(sparse.csr_matrix(impr_train_sparse), impr_train_tweets, cs_lex)\n",
    "impr_new_dev_sparse = lex_polarity.get_polarity_vectors_imp(sparse.csr_matrix(impr_dev_sparse), impr_dev_tweets, cs_lex)"
   ]
  },
  {
   "cell_type": "code",
   "execution_count": 57,
   "metadata": {
    "collapsed": false
   },
   "outputs": [
    {
     "name": "stdout",
     "output_type": "stream",
     "text": [
      "0.515582285402\n",
      "             precision    recall  f1-score   support\n",
      "\n",
      "         -1       0.46      0.14      0.22       360\n",
      "          0       0.45      0.74      0.56       700\n",
      "          1       0.66      0.48      0.56       769\n",
      "\n",
      "avg / total       0.54      0.52      0.49      1829\n",
      "\n"
     ]
    }
   ],
   "source": [
    "log_reg_classifier = LogisticRegression(solver='newton-cg', multi_class='multinomial', C=0.01, random_state=0)\n",
    "#we will retrain the classifier with the new sparse document, which has the new features we defined and added as vectors above\n",
    "log_reg_classifier.fit(impr_new_train_sparse, impr_train_labels)\n",
    "pre_processing.classifying(log_reg_classifier, impr_new_dev_sparse, impr_dev_labels)"
   ]
  },
  {
   "cell_type": "markdown",
   "metadata": {},
   "source": [
    "<b>TESTING</b>\n",
    "\n",
    "Includes preprocessing, classifying, one of the lexicons(result of Cosine Similarity) and my improvement (which is on preprocessing)."
   ]
  },
  {
   "cell_type": "code",
   "execution_count": 58,
   "metadata": {
    "collapsed": false
   },
   "outputs": [],
   "source": [
    "test_tweets, test_labels, test_word_dict = pre_processing.preprocess_file_improvement(TEST_DATA_FILE_PATH)\n",
    "test_feature_dicts = pre_processing.convert_to_feature_dicts(test_tweets, True, 2, test_word_dict)\n",
    "test_sparse = vectorizer.transform(test_feature_dicts)"
   ]
  },
  {
   "cell_type": "code",
   "execution_count": 59,
   "metadata": {
    "collapsed": false
   },
   "outputs": [],
   "source": [
    "test_sparse = lex_polarity.get_polarity_vectors_imp(sparse.csr_matrix(test_sparse), test_tweets, cs_lex)"
   ]
  },
  {
   "cell_type": "code",
   "execution_count": 60,
   "metadata": {
    "collapsed": false
   },
   "outputs": [
    {
     "name": "stdout",
     "output_type": "stream",
     "text": [
      "0.520199225235\n",
      "             precision    recall  f1-score   support\n",
      "\n",
      "         -1       0.41      0.19      0.26       290\n",
      "          0       0.43      0.73      0.54       625\n",
      "          1       0.71      0.48      0.57       892\n",
      "\n",
      "avg / total       0.56      0.52      0.51      1807\n",
      "\n"
     ]
    }
   ],
   "source": [
    "pre_processing.classifying(log_reg_classifier, test_sparse, test_labels)"
   ]
  },
  {
   "cell_type": "code",
   "execution_count": 61,
   "metadata": {
    "collapsed": false
   },
   "outputs": [
    {
     "name": "stdout",
     "output_type": "stream",
     "text": [
      "--- Total Exec. time : 440.164999962 seconds ---\n"
     ]
    }
   ],
   "source": [
    "print(\"--- Total Exec. time : %s seconds ---\" % (time.time() - start_time))"
   ]
  },
  {
   "cell_type": "markdown",
   "metadata": {},
   "source": [
    "<h2><b>FINAL DISCUSSION</b></h2>"
   ]
  },
  {
   "cell_type": "markdown",
   "metadata": {},
   "source": [
    "<b>I grouped the major steps that I followed during this project:</b>\n",
    "   \n",
    "<b>1.</b> Cleaning data and making it in a processable format for my future classifier\n",
    "   \n",
    "        The preprocessing step.\n",
    "    \n",
    "<b>2.</b> Finding the best Logistic Regression Classifier by tuning the parameters\n",
    "   \n",
    "        This section was challenging, because we have multiple labels(not binary) in our data, therefore for the Logistic Regresssion classifier, we have to run it in multi_class:'multinominal mode'. However, the other options are very limited for multinominal mode. I was only able to determine a parameter which inreases the performance of the classifier, but I was not able to find out parameters for better accuracy. \n",
    "        Also, the other classifier which is DecisionTree, takes longer than Logistic regression. The accuracy, other scores and time comparison of these classifiers is as in the tables below. \n",
    "        According to the precision, recall and f1-score values: Relatively, Decision Tree classifier seems to be having higher recall but lower precision(average precision and recall values are too close) by comparing ratios(precision/recall). Hence, we can say that Decision Tree classifier seems to be creating more incorrect results. "
   ]
  },
  {
   "cell_type": "markdown",
   "metadata": {},
   "source": [
    "<b>Training and Classification - {Without improvements}</b>"
   ]
  },
  {
   "cell_type": "code",
   "execution_count": 62,
   "metadata": {
    "collapsed": false
   },
   "outputs": [],
   "source": [
    "#Log regression \n",
    "# Accuracy = 0.481683980317\n",
    "#              precision    recall  f1-score   support\n",
    "\n",
    "#          -1       0.34      0.34      0.34       360\n",
    "#           0       0.44      0.64      0.52       700\n",
    "#           1       0.71      0.40      0.52       769\n",
    "\n",
    "# avg / total       0.53      0.48      0.48      1829\n",
    "\n",
    "# --- LR Classification time : 97.9670000076 seconds ---"
   ]
  },
  {
   "cell_type": "code",
   "execution_count": 63,
   "metadata": {
    "collapsed": true
   },
   "outputs": [],
   "source": [
    "#Decision tree\n",
    "# Accuracy = 0.428649535265\n",
    "#              precision    recall  f1-score   support\n",
    "\n",
    "#          -1       0.29      0.25      0.27       360\n",
    "#           0       0.42      0.56      0.48       700\n",
    "#           1       0.52      0.40      0.45       769\n",
    "\n",
    "# avg / total       0.44      0.43      0.42      1829\n",
    "\n",
    "# --- DT Classification time : 137.391000032 seconds ---"
   ]
  },
  {
   "cell_type": "markdown",
   "metadata": {},
   "source": [
    "<b>Tuning</b>\n",
    "\n"
   ]
  },
  {
   "cell_type": "code",
   "execution_count": 64,
   "metadata": {
    "collapsed": false
   },
   "outputs": [],
   "source": [
    "#Logistic regression tuning results show that the chosen parameters are not effective. \n",
    "#Unfortunately If ipython kernel restarts, the graph will be lost."
   ]
  },
  {
   "cell_type": "code",
   "execution_count": 13,
   "metadata": {
    "collapsed": false
   },
   "outputs": [
    {
     "name": "stdout",
     "output_type": "stream",
     "text": [
      "Best score: 0.457627118644\n",
      "Parameters : \n",
      "  C: 0.01\n",
      "  random_state: 0\n",
      "  solver: 'newton-cg'\n"
     ]
    },
    {
     "data": {
      "image/png": "[encoded data removed]",
      "text/plain": [
       "<matplotlib.figure.Figure at 0xa402128>"
      ]
     },
     "metadata": {},
     "output_type": "display_data"
    }
   ],
   "source": []
  },
  {
   "cell_type": "code",
   "execution_count": 69,
   "metadata": {
    "collapsed": false
   },
   "outputs": [],
   "source": [
    "#Decision Tree tuning results show the best score and the best parameters\n",
    "#Unfortunately If ipython kernel restarts, the graph will be lost."
   ]
  },
  {
   "cell_type": "code",
   "execution_count": 11,
   "metadata": {
    "collapsed": false
   },
   "outputs": [
    {
     "name": "stdout",
     "output_type": "stream",
     "text": [
      "Best score: 0.453253143794\n",
      "Parameters : \n",
      "  max_depth: 13\n",
      "  max_features: 'auto'\n",
      "  random_state: 28\n"
     ]
    },
    {
     "data": {
      "image/png": "[encoded data removed]",
      "text/plain": [
       "<matplotlib.figure.Figure at 0x12e8c8d0>"
      ]
     },
     "metadata": {},
     "output_type": "display_data"
    }
   ],
   "source": []
  },
  {
   "cell_type": "markdown",
   "metadata": {},
   "source": [
    "<b>3.</b>Classifying the data and evaluating the accuracy and other scores\n",
    "\n",
    "        After, I had classified the development data with the best classifier so far, I observed that we can increase the accuracy by adding more valuable features to the training, for example if the tweet contains words which are in our lexicon's positive words or negative words, we can leverage from this. \n",
    "        \n",
    "<b>4.</b>Implementing lexicons and evaluating them to find the best lexicon\n",
    "\n",
    "        As specified in the assignment document, I implemented three lexicons and copied one manually annotated lexicon [-naming them as lexicons might be wrong, but I wanted to connect the terms with the specification document-] and created lists of positive and negative words from them. One of the lexicons was relatively very successful of finding positive and negative lists, which was sentiword_net. "
   ]
  },
  {
   "cell_type": "code",
   "execution_count": 66,
   "metadata": {
    "collapsed": true
   },
   "outputs": [],
   "source": [
    "# cosine similarity accuracy   : 0.476216511755\n",
    "\n",
    "# ppmi accuracy              : 0.358119190815\n",
    "\n",
    "# sentiword_net accuracy    :  0.835975943138 "
   ]
  },
  {
   "cell_type": "markdown",
   "metadata": {},
   "source": [
    "<b>5.</b> Error analysing and finding patterns in the data, Improvements on preprocessing\n",
    "    \n",
    "        After retraining the classifier, I filtered the errors and analysed them to find some patterns in order to fix and increase the performance, accuracy etc. Most of my strategies were on preprocessing step, because I thought if I create new better features and remove inefficient ones from the model, the weight of the efficient features in the model will increase and this will create a better model. For example, I thought if I remove numbers from the tweets, which are intuitively not effective to polarity, that will result into increase of the weights of the other features. Other examples were removing some of the punctuations, applying max_match algorithm, lemmatization etc. However, after I had tested the model, I observed that those differences made very little improvement (actually some of them made it worse). Since, I quickly ran out of time, I wasn't able to try other things to increase accuracy. However, I will discuss these in the following section. \n",
    "        The graphs below show the classifer's accuracy and other values after applying some improvements."
   ]
  },
  {
   "cell_type": "code",
   "execution_count": 67,
   "metadata": {
    "collapsed": true
   },
   "outputs": [],
   "source": [
    "#Logistic regression after adding polarity data\n",
    "# Accuracy = 0.513395297977\n",
    "#              precision    recall  f1-score   support\n",
    "\n",
    "#          -1       0.42      0.28      0.33       360\n",
    "#           0       0.46      0.68      0.55       700\n",
    "#           1       0.66      0.47      0.55       769\n",
    "\n",
    "# avg / total       0.53      0.51      0.51      1829"
   ]
  },
  {
   "cell_type": "code",
   "execution_count": null,
   "metadata": {
    "collapsed": true
   },
   "outputs": [],
   "source": [
    "#Logistic regression after adding only cosine distance polarity data and applying improved preprocessing\n",
    "# Accuracy = 0.515582285402\n",
    "#              precision    recall  f1-score   support\n",
    "\n",
    "#          -1       0.46      0.14      0.22       360\n",
    "#           0       0.45      0.74      0.56       700\n",
    "#           1       0.66      0.48      0.56       769\n",
    "\n",
    "# avg / total       0.54      0.52      0.49      1829"
   ]
  },
  {
   "cell_type": "markdown",
   "metadata": {},
   "source": [
    "<b>6.</b> Final testing\n",
    "\n",
    "            I tested the test data on the best Logistic regression classifier by retraining it with the preprocessing improvements. I added only the cosine similarity lexicon(word2vec)'s feature to the model. In the end, the result was very slightly increased. Final result is as below. More importantly presicion value has increased and that means the improvements on preprocessing resulted into creating more accurate results. However, if we look more carefully to the precision and recall values, those values have changed dramatically. For example, for positive: precision value increased while the recall remained stable. But, for negative: precision value decreased with the equal rate and recall increased dramatically. That may suggest us that the lexicon, that I developed and used in this model as a feauture(cosine similarity), has problems with negative polarity in itself."
   ]
  },
  {
   "cell_type": "code",
   "execution_count": 68,
   "metadata": {
    "collapsed": true
   },
   "outputs": [],
   "source": [
    "#Logistic Regression on test set\n",
    "# Accuracy = 0.520199225235\n",
    "#              precision    recall  f1-score   support\n",
    "\n",
    "#          -1       0.41      0.19      0.26       290\n",
    "#           0       0.43      0.73      0.54       625\n",
    "#           1       0.71      0.48      0.57       892\n",
    "\n",
    "# avg / total       0.56      0.52      0.51      1807\n"
   ]
  },
  {
   "cell_type": "markdown",
   "metadata": {},
   "source": [
    "<b>Consequently,</b> although I achieved a very little improvement on the classifier, it still has many problems. \n",
    "I think the most important strategy to achieve better results is to reduce the randomicity of features as much as possible in this model. Just like I mentioned above, the features which have no relation with polarity should be removed from the model.\n"
   ]
  },
  {
   "cell_type": "markdown",
   "metadata": {},
   "source": [
    "The performance of the whole project is very reasonable, also it includes testing time\n",
    "\n",
    "--- Total Exec. time : 440.164999962 seconds ---"
   ]
  },
  {
   "cell_type": "code",
   "execution_count": null,
   "metadata": {
    "collapsed": true
   },
   "outputs": [],
   "source": []
  }
 ],
 "metadata": {
  "kernelspec": {
   "display_name": "Python 2",
   "language": "python",
   "name": "python2"
  },
  "language_info": {
   "codemirror_mode": {
    "name": "ipython",
    "version": 2
   },
   "file_extension": ".py",
   "mimetype": "text/x-python",
   "name": "python",
   "nbconvert_exporter": "python",
   "pygments_lexer": "ipython2",
   "version": "2.7.10"
  }
 },
 "nbformat": 4,
 "nbformat_minor": 0
}
